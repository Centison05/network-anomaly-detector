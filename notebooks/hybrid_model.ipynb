{
 "cells": [
  {
   "cell_type": "code",
   "execution_count": 2,
   "id": "5d7fcdce",
   "metadata": {},
   "outputs": [],
   "source": [
    "import pandas as pd\n",
    "import numpy as np\n",
    "from pathlib import Path\n",
    "from sklearn.model_selection import train_test_split\n",
    "from sklearn.preprocessing import StandardScaler\n",
    "from sklearn.metrics import accuracy_score, roc_auc_score, classification_report\n",
    "from sklearn.pipeline import Pipeline\n",
    "from sklearn.utils import resample\n",
    "import xgboost as xgb\n",
    "from keras.models import Model, Sequential, load_model\n",
    "from keras.layers import Input, Dense\n",
    "import joblib\n",
    "import os\n"
   ]
  },
  {
   "cell_type": "code",
   "execution_count": 9,
   "id": "15e91049",
   "metadata": {},
   "outputs": [
    {
     "name": "stdout",
     "output_type": "stream",
     "text": [
      "Combined dataset shape: (2509564, 80)\n",
      "Days in dataset: ['Monday' 'Tuesday' 'Wednesday' 'Thursday_Morning' 'Thursday_Afternoon'\n",
      " 'Friday_Morning' 'Friday_Afternoon']\n",
      "Count of samples per day:\n",
      "Day\n",
      "Wednesday             692703\n",
      "Monday                529918\n",
      "Tuesday               445909\n",
      "Thursday_Afternoon    288602\n",
      "Friday_Morning        191033\n",
      "Friday_Afternoon      191033\n",
      "Thursday_Morning      170366\n",
      "Name: count, dtype: int64\n",
      "Columns in dataset: ['Destination Port', 'Flow Duration', 'Total Fwd Packets', 'Total Backward Packets', 'Total Length of Fwd Packets', 'Total Length of Bwd Packets', 'Fwd Packet Length Max', 'Fwd Packet Length Min', 'Fwd Packet Length Mean', 'Fwd Packet Length Std', 'Bwd Packet Length Max', 'Bwd Packet Length Min', 'Bwd Packet Length Mean', 'Bwd Packet Length Std', 'Flow Bytes/s', 'Flow Packets/s', 'Flow IAT Mean', 'Flow IAT Std', 'Flow IAT Max', 'Flow IAT Min', 'Fwd IAT Total', 'Fwd IAT Mean', 'Fwd IAT Std', 'Fwd IAT Max', 'Fwd IAT Min', 'Bwd IAT Total', 'Bwd IAT Mean', 'Bwd IAT Std', 'Bwd IAT Max', 'Bwd IAT Min', 'Fwd PSH Flags', 'Bwd PSH Flags', 'Fwd URG Flags', 'Bwd URG Flags', 'Fwd Header Length', 'Bwd Header Length', 'Fwd Packets/s', 'Bwd Packets/s', 'Min Packet Length', 'Max Packet Length', 'Packet Length Mean', 'Packet Length Std', 'Packet Length Variance', 'FIN Flag Count', 'SYN Flag Count', 'RST Flag Count', 'PSH Flag Count', 'ACK Flag Count', 'URG Flag Count', 'CWE Flag Count', 'ECE Flag Count', 'Down/Up Ratio', 'Average Packet Size', 'Avg Fwd Segment Size', 'Avg Bwd Segment Size', 'Fwd Header Length.1', 'Fwd Avg Bytes/Bulk', 'Fwd Avg Packets/Bulk', 'Fwd Avg Bulk Rate', 'Bwd Avg Bytes/Bulk', 'Bwd Avg Packets/Bulk', 'Bwd Avg Bulk Rate', 'Subflow Fwd Packets', 'Subflow Fwd Bytes', 'Subflow Bwd Packets', 'Subflow Bwd Bytes', 'Init_Win_bytes_forward', 'Init_Win_bytes_backward', 'act_data_pkt_fwd', 'min_seg_size_forward', 'Active Mean', 'Active Std', 'Active Max', 'Active Min', 'Idle Mean', 'Idle Std', 'Idle Max', 'Idle Min', 'Label', 'Day']\n"
     ]
    }
   ],
   "source": [
    "base_dir = Path(r\"C:\\Users\\cmhub\\Desktop\\network-anomaly-detector-starter\\data\\MachineLearningCSV\\MachineLearningCVE\") \n",
    "\n",
    "files = {\"Monday\": \"Monday-WorkingHours.pcap_ISCX.csv\",\n",
    "         \"Tuesday\": \"Tuesday-WorkingHours.pcap_ISCX.csv\",\n",
    "         \"Wednesday\": \"Wednesday-workingHours.pcap_ISCX.csv\",\n",
    "         \"Thursday_Morning\": \"Thursday-WorkingHours-Morning-WebAttacks.pcap_ISCX.csv\",\n",
    "         \"Thursday_Afternoon\": \"Thursday-WorkingHours-Afternoon-Infilteration.pcap_ISCX.csv\",\n",
    "         \"Friday_Morning\": \"Friday-WorkingHours-Morning.pcap_ISCX.csv\",\n",
    "         \"Friday_Afternoon\": \"Friday-WorkingHours-Morning.pcap_ISCX.csv\"}\n",
    "dfs = []\n",
    "for day, filename in files.items():\n",
    "    df_day = pd.read_csv(base_dir / filename)\n",
    "\n",
    "    # Normalize column names (remove accidental spaces)\n",
    "    df_day.columns = df_day.columns.str.strip()\n",
    "\n",
    "    # Rename ' Label' to 'Label' if needed\n",
    "    if \" Label\" in df_day.columns:\n",
    "        df_day = df_day.rename(columns={\" Label\": \"Label\"})\n",
    "\n",
    "    df_day.replace([np.inf, -np.inf], np.nan, inplace=True)\n",
    "    \n",
    "    # Clip extreme numeric outliers (prevents scaler overflow)\n",
    "    num_cols = df_day.select_dtypes(include=[np.number]).columns\n",
    "    df_day[num_cols] = df_day[num_cols].clip(lower=-1e10, upper=1e10)\n",
    "\n",
    "    \n",
    "    # Fill any remaining NaN with 0 (for simplicity)\n",
    "    df_day = df_day.fillna(0)\n",
    "    \n",
    "    df_day[\"Day\"] = day\n",
    "    dfs.append(df_day)\n",
    "full_df = pd.concat(dfs, ignore_index=True)\n",
    "print(f\"Combined dataset shape: {full_df.shape}\")\n",
    "print(\"Days in dataset:\", full_df['Day'].unique())\n",
    "print(\"Count of samples per day:\")\n",
    "print(full_df['Day'].value_counts())\n",
    "\n",
    "print(\"Columns in dataset:\", full_df.columns.tolist())\n",
    "full_df[\"Label\"] = full_df[\"Label\"].apply(lambda x: 0 if x == \"BENIGN\" else 1)\n"
   ]
  },
  {
   "cell_type": "code",
   "execution_count": 10,
   "id": "bccad487",
   "metadata": {},
   "outputs": [
    {
     "name": "stdout",
     "output_type": "stream",
     "text": [
      "                    Attacks  Benign   Total\n",
      "Day                                        \n",
      "Friday_Afternoon       1966  189067  191033\n",
      "Friday_Morning         1966  189067  191033\n",
      "Monday                    0  529918  529918\n",
      "Thursday_Afternoon       36  288566  288602\n",
      "Thursday_Morning       2180  168186  170366\n",
      "Tuesday               13835  432074  445909\n",
      "Wednesday            252672  440031  692703\n"
     ]
    }
   ],
   "source": [
    "print(full_df.groupby(\"Day\")[\"Label\"].agg(\n",
    "    Attacks=lambda s: (s==1).sum(),\n",
    "    Benign=lambda s: (s==0).sum(),\n",
    "    Total=\"count\"\n",
    "))"
   ]
  },
  {
   "cell_type": "code",
   "execution_count": null,
   "id": "b9bb8a09",
   "metadata": {},
   "outputs": [
    {
     "name": "stdout",
     "output_type": "stream",
     "text": [
      "Training set shape: (2318531, 78), Test set shape: (191033, 78)\n",
      "TRAIN: 2318531 rows | Attacks: 270689 | Benign: 2047842\n",
      "TEST : 191033 rows | Attacks: 1966 | Benign: 189067\n"
     ]
    }
   ],
   "source": [
    "#Final alignment before train test split\n",
    "\n",
    "\n",
    "#Day Based Train/Test Split\n",
    "train_days = [\"Monday\", \"Tuesday\", \"Wednesday\", \"Thursday_Morning\", \"Thursday_Afternoon\", \"Friday_Morning\"]\n",
    "test_days = [\"Friday_Afternoon\"]\n",
    "\n",
    "train_df = full_df[full_df[\"Day\"].isin(train_days)].copy()\n",
    "test_df = full_df[full_df[\"Day\"].isin(test_days)].copy()\n",
    "\n",
    "# Drop the 'Day' column as it's no longer needed\n",
    "X_train = train_df.drop(columns=[\"Label\", \"Day\"])\n",
    "y_train = train_df[\"Label\"]\n",
    "X_test = test_df.drop(columns=[\"Label\", \"Day\"])\n",
    "y_test = test_df[\"Label\"]\n",
    "\n",
    "X_train, y_train = X_train.align(y_train, join='inner', axis=0)\n",
    "X_test, y_test = X_test.align(y_test, join='inner', axis=0)\n",
    "\n",
    "\n",
    "print(f\"Training set shape: {X_train.shape}, Test set shape: {X_test.shape}\")\n",
    "print(f\"TRAIN: {len(train_df)} rows | Attacks: {train_df['Label'].sum()} | Benign: {(train_df['Label']==0).sum()}\")\n",
    "print(f\"TEST : {len(test_df)} rows | Attacks: {test_df['Label'].sum()} | Benign: {(test_df['Label']==0).sum()}\")"
   ]
  },
  {
   "cell_type": "code",
   "execution_count": 15,
   "id": "e14d97ab",
   "metadata": {},
   "outputs": [
    {
     "name": "stderr",
     "output_type": "stream",
     "text": [
      "C:\\Users\\cmhub\\AppData\\Local\\Packages\\PythonSoftwareFoundation.Python.3.10_qbz5n2kfra8p0\\LocalCache\\local-packages\\Python310\\site-packages\\keras\\src\\layers\\core\\dense.py:92: UserWarning: Do not pass an `input_shape`/`input_dim` argument to a layer. When using Sequential models, prefer using an `Input(shape)` object as the first layer in the model instead.\n",
      "  super().__init__(activity_regularizer=activity_regularizer, **kwargs)\n"
     ]
    },
    {
     "name": "stdout",
     "output_type": "stream",
     "text": [
      "Epoch 1/15\n",
      "\u001b[1m4529/4529\u001b[0m \u001b[32m━━━━━━━━━━━━━━━━━━━━\u001b[0m\u001b[37m\u001b[0m \u001b[1m9s\u001b[0m 2ms/step - loss: 0.1564 - val_loss: 0.0674\n",
      "Epoch 2/15\n",
      "\u001b[1m4529/4529\u001b[0m \u001b[32m━━━━━━━━━━━━━━━━━━━━\u001b[0m\u001b[37m\u001b[0m \u001b[1m9s\u001b[0m 2ms/step - loss: 0.0595 - val_loss: 0.0259\n",
      "Epoch 3/15\n",
      "\u001b[1m4529/4529\u001b[0m \u001b[32m━━━━━━━━━━━━━━━━━━━━\u001b[0m\u001b[37m\u001b[0m \u001b[1m9s\u001b[0m 2ms/step - loss: 0.0458 - val_loss: 0.0238\n",
      "Epoch 4/15\n",
      "\u001b[1m4529/4529\u001b[0m \u001b[32m━━━━━━━━━━━━━━━━━━━━\u001b[0m\u001b[37m\u001b[0m \u001b[1m9s\u001b[0m 2ms/step - loss: 0.0398 - val_loss: 0.0189\n",
      "Epoch 5/15\n",
      "\u001b[1m4529/4529\u001b[0m \u001b[32m━━━━━━━━━━━━━━━━━━━━\u001b[0m\u001b[37m\u001b[0m \u001b[1m9s\u001b[0m 2ms/step - loss: 0.0330 - val_loss: 0.0157\n",
      "Epoch 6/15\n",
      "\u001b[1m4529/4529\u001b[0m \u001b[32m━━━━━━━━━━━━━━━━━━━━\u001b[0m\u001b[37m\u001b[0m \u001b[1m9s\u001b[0m 2ms/step - loss: 0.0272 - val_loss: 0.0138\n",
      "Epoch 7/15\n",
      "\u001b[1m4529/4529\u001b[0m \u001b[32m━━━━━━━━━━━━━━━━━━━━\u001b[0m\u001b[37m\u001b[0m \u001b[1m9s\u001b[0m 2ms/step - loss: 0.0222 - val_loss: 0.0173\n",
      "Epoch 8/15\n",
      "\u001b[1m4529/4529\u001b[0m \u001b[32m━━━━━━━━━━━━━━━━━━━━\u001b[0m\u001b[37m\u001b[0m \u001b[1m9s\u001b[0m 2ms/step - loss: 0.0211 - val_loss: 0.0114\n",
      "Epoch 9/15\n",
      "\u001b[1m4529/4529\u001b[0m \u001b[32m━━━━━━━━━━━━━━━━━━━━\u001b[0m\u001b[37m\u001b[0m \u001b[1m9s\u001b[0m 2ms/step - loss: 0.0200 - val_loss: 0.0145\n",
      "Epoch 10/15\n",
      "\u001b[1m4529/4529\u001b[0m \u001b[32m━━━━━━━━━━━━━━━━━━━━\u001b[0m\u001b[37m\u001b[0m \u001b[1m9s\u001b[0m 2ms/step - loss: 0.0185 - val_loss: 0.0214\n",
      "Epoch 11/15\n",
      "\u001b[1m4529/4529\u001b[0m \u001b[32m━━━━━━━━━━━━━━━━━━━━\u001b[0m\u001b[37m\u001b[0m \u001b[1m9s\u001b[0m 2ms/step - loss: 0.0198 - val_loss: 0.0094\n",
      "Epoch 12/15\n",
      "\u001b[1m4529/4529\u001b[0m \u001b[32m━━━━━━━━━━━━━━━━━━━━\u001b[0m\u001b[37m\u001b[0m \u001b[1m9s\u001b[0m 2ms/step - loss: 0.0179 - val_loss: 0.0125\n",
      "Epoch 13/15\n",
      "\u001b[1m4529/4529\u001b[0m \u001b[32m━━━━━━━━━━━━━━━━━━━━\u001b[0m\u001b[37m\u001b[0m \u001b[1m9s\u001b[0m 2ms/step - loss: 0.0170 - val_loss: 0.0259\n",
      "Epoch 14/15\n",
      "\u001b[1m4529/4529\u001b[0m \u001b[32m━━━━━━━━━━━━━━━━━━━━\u001b[0m\u001b[37m\u001b[0m \u001b[1m9s\u001b[0m 2ms/step - loss: 0.0167 - val_loss: 0.0083\n",
      "Epoch 15/15\n",
      "\u001b[1m4529/4529\u001b[0m \u001b[32m━━━━━━━━━━━━━━━━━━━━\u001b[0m\u001b[37m\u001b[0m \u001b[1m9s\u001b[0m 2ms/step - loss: 0.0153 - val_loss: 0.0128\n",
      "Model saved successfully.\n",
      "Scaler saved successfully.\n"
     ]
    }
   ],
   "source": [
    "#Building and training the autoencoder\n",
    "scaler = StandardScaler()\n",
    "X_train_scaled = scaler.fit_transform(X_train)\n",
    "X_test_scaled = scaler.transform(X_test)\n",
    "\n",
    "#Simple symmetric autoencoder for now\n",
    "input_dim = X_train_scaled.shape[1]\n",
    "encoding_dim = input_dim // 2\n",
    "\n",
    "autoencoder = Sequential([\n",
    "    Dense(encoding_dim, activation=\"relu\", input_shape=(input_dim,)),\n",
    "    Dense(encoding_dim // 2, activation=\"relu\"),\n",
    "    Dense(encoding_dim, activation=\"relu\"),\n",
    "    Dense(input_dim, activation=\"linear\")\n",
    "])\n",
    "\n",
    "autoencoder.compile(optimizer=\"adam\", loss=\"mse\")\n",
    "autoencoder.fit(X_train_scaled, X_train_scaled,\n",
    "                epochs=15,\n",
    "                batch_size=512,\n",
    "                shuffle=True,\n",
    "                validation_data=(X_test_scaled, X_test_scaled))\n",
    "autoencoder.save(r\"C:\\Users\\cmhub\\Desktop\\network-anomaly-detector-starter\\models\\autoencoder_model.keras\")\n",
    "print(\"Model saved successfully.\")\n",
    "joblib.dump(scaler, r\"C:\\Users\\cmhub\\Desktop\\network-anomaly-detector-starter\\models\\autoencoder_scaler.pkl\")\n",
    "print(\"Scaler saved successfully.\")"
   ]
  },
  {
   "cell_type": "code",
   "execution_count": 6,
   "id": "330c04d5",
   "metadata": {},
   "outputs": [
    {
     "name": "stdout",
     "output_type": "stream",
     "text": [
      "\u001b[1m66485/66485\u001b[0m \u001b[32m━━━━━━━━━━━━━━━━━━━━\u001b[0m\u001b[37m\u001b[0m \u001b[1m52s\u001b[0m 778us/step\n",
      "\u001b[1m11940/11940\u001b[0m \u001b[32m━━━━━━━━━━━━━━━━━━━━\u001b[0m\u001b[37m\u001b[0m \u001b[1m9s\u001b[0m 735us/step\n"
     ]
    }
   ],
   "source": [
    "train_recon = np.mean(np.square(X_train_scaled - autoencoder.predict(X_train_scaled)), axis=1)\n",
    "test_recon = np.mean(np.square(X_test_scaled - autoencoder.predict(X_test_scaled)), axis=1)\n",
    "\n",
    "X_train_hybrid = X_train.copy()\n",
    "X_test_hybrid = X_test.copy()\n",
    "X_train_hybrid[\"reconstruction_error\"] = train_recon\n",
    "X_test_hybrid[\"reconstruction_error\"] = test_recon\n"
   ]
  },
  {
   "cell_type": "code",
   "execution_count": 12,
   "id": "ed1d62f3",
   "metadata": {},
   "outputs": [],
   "source": [
    "train_combined = pd.concat([X_train_hybrid, y_train], axis=1)\n",
    "attack_df = train_combined[train_combined[\"Label\"] == 1]\n",
    "benign_df = train_combined[train_combined[\"Label\"] == 0]\n",
    "\n",
    "# --- Safety check ---\n",
    "if len(attack_df) == 0 or len(benign_df) == 0:\n",
    "    print(f\"Warning: No attack or benign samples found in training data. \"\n",
    "          f\"Attacks={len(attack_df)}, Benign={len(benign_df)}\")\n",
    "    train_balanced = train_combined.copy()\n",
    "else:\n",
    "    ratio = 3  # keep 3 benign per attack\n",
    "    n_samples = min(len(attack_df) * ratio, len(benign_df))\n",
    "    \n",
    "    benign_down = resample(\n",
    "        benign_df,\n",
    "        replace=False,\n",
    "        n_samples=n_samples,\n",
    "        random_state=42\n",
    "    )\n",
    "\n",
    "    train_balanced = pd.concat([attack_df, benign_down]).sample(frac=1, random_state=42)\n",
    "\n",
    "y_train_bal = train_balanced[\"Label\"]\n",
    "X_train_bal = train_balanced.drop(columns=[\"Label\"])\n",
    "\n"
   ]
  },
  {
   "cell_type": "code",
   "execution_count": 16,
   "id": "30d9c982",
   "metadata": {},
   "outputs": [
    {
     "ename": "ValueError",
     "evalue": "Found input variables with inconsistent numbers of samples: [191033, 382066]",
     "output_type": "error",
     "traceback": [
      "\u001b[1;31m---------------------------------------------------------------------------\u001b[0m",
      "\u001b[1;31mValueError\u001b[0m                                Traceback (most recent call last)",
      "Cell \u001b[1;32mIn[16], line 17\u001b[0m\n\u001b[0;32m     14\u001b[0m y_pred \u001b[38;5;241m=\u001b[39m xgb_hybrid\u001b[38;5;241m.\u001b[39mpredict(X_test_hybrid)\n\u001b[0;32m     15\u001b[0m y_proba \u001b[38;5;241m=\u001b[39m xgb_hybrid\u001b[38;5;241m.\u001b[39mpredict_proba(X_test_hybrid)[:, \u001b[38;5;241m1\u001b[39m]\n\u001b[1;32m---> 17\u001b[0m \u001b[38;5;28mprint\u001b[39m(\u001b[38;5;124m\"\u001b[39m\u001b[38;5;124mAccuracy:\u001b[39m\u001b[38;5;124m\"\u001b[39m, \u001b[43maccuracy_score\u001b[49m\u001b[43m(\u001b[49m\u001b[43my_test\u001b[49m\u001b[43m,\u001b[49m\u001b[43m \u001b[49m\u001b[43my_pred\u001b[49m\u001b[43m)\u001b[49m)\n\u001b[0;32m     18\u001b[0m \u001b[38;5;28mprint\u001b[39m(\u001b[38;5;124m\"\u001b[39m\u001b[38;5;124mROC-AUC:\u001b[39m\u001b[38;5;124m\"\u001b[39m, roc_auc_score(y_test, y_proba))\n\u001b[0;32m     19\u001b[0m \u001b[38;5;28mprint\u001b[39m(\u001b[38;5;124m\"\u001b[39m\u001b[38;5;130;01m\\n\u001b[39;00m\u001b[38;5;124mClassification Report:\u001b[39m\u001b[38;5;130;01m\\n\u001b[39;00m\u001b[38;5;124m\"\u001b[39m, classification_report(y_test, y_pred))\n",
      "File \u001b[1;32m~\\AppData\\Local\\Packages\\PythonSoftwareFoundation.Python.3.10_qbz5n2kfra8p0\\LocalCache\\local-packages\\Python310\\site-packages\\sklearn\\utils\\_param_validation.py:218\u001b[0m, in \u001b[0;36mvalidate_params.<locals>.decorator.<locals>.wrapper\u001b[1;34m(*args, **kwargs)\u001b[0m\n\u001b[0;32m    212\u001b[0m \u001b[38;5;28;01mtry\u001b[39;00m:\n\u001b[0;32m    213\u001b[0m     \u001b[38;5;28;01mwith\u001b[39;00m config_context(\n\u001b[0;32m    214\u001b[0m         skip_parameter_validation\u001b[38;5;241m=\u001b[39m(\n\u001b[0;32m    215\u001b[0m             prefer_skip_nested_validation \u001b[38;5;129;01mor\u001b[39;00m global_skip_validation\n\u001b[0;32m    216\u001b[0m         )\n\u001b[0;32m    217\u001b[0m     ):\n\u001b[1;32m--> 218\u001b[0m         \u001b[38;5;28;01mreturn\u001b[39;00m func(\u001b[38;5;241m*\u001b[39margs, \u001b[38;5;241m*\u001b[39m\u001b[38;5;241m*\u001b[39mkwargs)\n\u001b[0;32m    219\u001b[0m \u001b[38;5;28;01mexcept\u001b[39;00m InvalidParameterError \u001b[38;5;28;01mas\u001b[39;00m e:\n\u001b[0;32m    220\u001b[0m     \u001b[38;5;66;03m# When the function is just a wrapper around an estimator, we allow\u001b[39;00m\n\u001b[0;32m    221\u001b[0m     \u001b[38;5;66;03m# the function to delegate validation to the estimator, but we replace\u001b[39;00m\n\u001b[0;32m    222\u001b[0m     \u001b[38;5;66;03m# the name of the estimator by the name of the function in the error\u001b[39;00m\n\u001b[0;32m    223\u001b[0m     \u001b[38;5;66;03m# message to avoid confusion.\u001b[39;00m\n\u001b[0;32m    224\u001b[0m     msg \u001b[38;5;241m=\u001b[39m re\u001b[38;5;241m.\u001b[39msub(\n\u001b[0;32m    225\u001b[0m         \u001b[38;5;124mr\u001b[39m\u001b[38;5;124m\"\u001b[39m\u001b[38;5;124mparameter of \u001b[39m\u001b[38;5;124m\\\u001b[39m\u001b[38;5;124mw+ must be\u001b[39m\u001b[38;5;124m\"\u001b[39m,\n\u001b[0;32m    226\u001b[0m         \u001b[38;5;124mf\u001b[39m\u001b[38;5;124m\"\u001b[39m\u001b[38;5;124mparameter of \u001b[39m\u001b[38;5;132;01m{\u001b[39;00mfunc\u001b[38;5;241m.\u001b[39m\u001b[38;5;18m__qualname__\u001b[39m\u001b[38;5;132;01m}\u001b[39;00m\u001b[38;5;124m must be\u001b[39m\u001b[38;5;124m\"\u001b[39m,\n\u001b[0;32m    227\u001b[0m         \u001b[38;5;28mstr\u001b[39m(e),\n\u001b[0;32m    228\u001b[0m     )\n",
      "File \u001b[1;32m~\\AppData\\Local\\Packages\\PythonSoftwareFoundation.Python.3.10_qbz5n2kfra8p0\\LocalCache\\local-packages\\Python310\\site-packages\\sklearn\\metrics\\_classification.py:359\u001b[0m, in \u001b[0;36maccuracy_score\u001b[1;34m(y_true, y_pred, normalize, sample_weight)\u001b[0m\n\u001b[0;32m    357\u001b[0m \u001b[38;5;66;03m# Compute accuracy for each possible representation\u001b[39;00m\n\u001b[0;32m    358\u001b[0m y_true, y_pred \u001b[38;5;241m=\u001b[39m attach_unique(y_true, y_pred)\n\u001b[1;32m--> 359\u001b[0m y_type, y_true, y_pred \u001b[38;5;241m=\u001b[39m \u001b[43m_check_targets\u001b[49m\u001b[43m(\u001b[49m\u001b[43my_true\u001b[49m\u001b[43m,\u001b[49m\u001b[43m \u001b[49m\u001b[43my_pred\u001b[49m\u001b[43m)\u001b[49m\n\u001b[0;32m    360\u001b[0m check_consistent_length(y_true, y_pred, sample_weight)\n\u001b[0;32m    362\u001b[0m \u001b[38;5;28;01mif\u001b[39;00m y_type\u001b[38;5;241m.\u001b[39mstartswith(\u001b[38;5;124m\"\u001b[39m\u001b[38;5;124mmultilabel\u001b[39m\u001b[38;5;124m\"\u001b[39m):\n",
      "File \u001b[1;32m~\\AppData\\Local\\Packages\\PythonSoftwareFoundation.Python.3.10_qbz5n2kfra8p0\\LocalCache\\local-packages\\Python310\\site-packages\\sklearn\\metrics\\_classification.py:97\u001b[0m, in \u001b[0;36m_check_targets\u001b[1;34m(y_true, y_pred)\u001b[0m\n\u001b[0;32m     70\u001b[0m \u001b[38;5;250m\u001b[39m\u001b[38;5;124;03m\"\"\"Check that y_true and y_pred belong to the same classification task.\u001b[39;00m\n\u001b[0;32m     71\u001b[0m \n\u001b[0;32m     72\u001b[0m \u001b[38;5;124;03mThis converts multiclass or binary types to a common shape, and raises a\u001b[39;00m\n\u001b[1;32m   (...)\u001b[0m\n\u001b[0;32m     94\u001b[0m \u001b[38;5;124;03my_pred : array or indicator matrix\u001b[39;00m\n\u001b[0;32m     95\u001b[0m \u001b[38;5;124;03m\"\"\"\u001b[39;00m\n\u001b[0;32m     96\u001b[0m xp, _ \u001b[38;5;241m=\u001b[39m get_namespace(y_true, y_pred)\n\u001b[1;32m---> 97\u001b[0m \u001b[43mcheck_consistent_length\u001b[49m\u001b[43m(\u001b[49m\u001b[43my_true\u001b[49m\u001b[43m,\u001b[49m\u001b[43m \u001b[49m\u001b[43my_pred\u001b[49m\u001b[43m)\u001b[49m\n\u001b[0;32m     98\u001b[0m type_true \u001b[38;5;241m=\u001b[39m type_of_target(y_true, input_name\u001b[38;5;241m=\u001b[39m\u001b[38;5;124m\"\u001b[39m\u001b[38;5;124my_true\u001b[39m\u001b[38;5;124m\"\u001b[39m)\n\u001b[0;32m     99\u001b[0m type_pred \u001b[38;5;241m=\u001b[39m type_of_target(y_pred, input_name\u001b[38;5;241m=\u001b[39m\u001b[38;5;124m\"\u001b[39m\u001b[38;5;124my_pred\u001b[39m\u001b[38;5;124m\"\u001b[39m)\n",
      "File \u001b[1;32m~\\AppData\\Local\\Packages\\PythonSoftwareFoundation.Python.3.10_qbz5n2kfra8p0\\LocalCache\\local-packages\\Python310\\site-packages\\sklearn\\utils\\validation.py:473\u001b[0m, in \u001b[0;36mcheck_consistent_length\u001b[1;34m(*arrays)\u001b[0m\n\u001b[0;32m    471\u001b[0m lengths \u001b[38;5;241m=\u001b[39m [_num_samples(X) \u001b[38;5;28;01mfor\u001b[39;00m X \u001b[38;5;129;01min\u001b[39;00m arrays \u001b[38;5;28;01mif\u001b[39;00m X \u001b[38;5;129;01mis\u001b[39;00m \u001b[38;5;129;01mnot\u001b[39;00m \u001b[38;5;28;01mNone\u001b[39;00m]\n\u001b[0;32m    472\u001b[0m \u001b[38;5;28;01mif\u001b[39;00m \u001b[38;5;28mlen\u001b[39m(\u001b[38;5;28mset\u001b[39m(lengths)) \u001b[38;5;241m>\u001b[39m \u001b[38;5;241m1\u001b[39m:\n\u001b[1;32m--> 473\u001b[0m     \u001b[38;5;28;01mraise\u001b[39;00m \u001b[38;5;167;01mValueError\u001b[39;00m(\n\u001b[0;32m    474\u001b[0m         \u001b[38;5;124m\"\u001b[39m\u001b[38;5;124mFound input variables with inconsistent numbers of samples: \u001b[39m\u001b[38;5;132;01m%r\u001b[39;00m\u001b[38;5;124m\"\u001b[39m\n\u001b[0;32m    475\u001b[0m         \u001b[38;5;241m%\u001b[39m [\u001b[38;5;28mint\u001b[39m(l) \u001b[38;5;28;01mfor\u001b[39;00m l \u001b[38;5;129;01min\u001b[39;00m lengths]\n\u001b[0;32m    476\u001b[0m     )\n",
      "\u001b[1;31mValueError\u001b[0m: Found input variables with inconsistent numbers of samples: [191033, 382066]"
     ]
    }
   ],
   "source": [
    "xgb_hybrid = xgb.XGBClassifier(\n",
    "    n_estimators=400,\n",
    "    max_depth=8,\n",
    "    learning_rate=0.05,\n",
    "    subsample=0.8,\n",
    "    colsample_bytree=0.8,\n",
    "    scale_pos_weight=len(y_train_bal[y_train_bal==0]) / len(y_train_bal[y_train_bal==1]),\n",
    "    n_jobs=-1,\n",
    "    eval_metric=\"auc\",\n",
    "    random_state=42\n",
    ")\n",
    "\n",
    "xgb_hybrid.fit(X_train_bal, y_train_bal)\n",
    "y_pred = xgb_hybrid.predict(X_test_hybrid)\n",
    "y_proba = xgb_hybrid.predict_proba(X_test_hybrid)[:, 1]\n",
    "\n",
    "print(\"Accuracy:\", accuracy_score(y_test, y_pred))\n",
    "print(\"ROC-AUC:\", roc_auc_score(y_test, y_proba))\n",
    "print(\"\\nClassification Report:\\n\", classification_report(y_test, y_pred))\n",
    "\n"
   ]
  }
 ],
 "metadata": {
  "kernelspec": {
   "display_name": "Python 3",
   "language": "python",
   "name": "python3"
  },
  "language_info": {
   "codemirror_mode": {
    "name": "ipython",
    "version": 3
   },
   "file_extension": ".py",
   "mimetype": "text/x-python",
   "name": "python",
   "nbconvert_exporter": "python",
   "pygments_lexer": "ipython3",
   "version": "3.10.11"
  }
 },
 "nbformat": 4,
 "nbformat_minor": 5
}
